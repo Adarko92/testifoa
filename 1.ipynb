{
 "cells": [
  {
   "cell_type": "code",
   "execution_count": 2,
   "id": "efd61dd6",
   "metadata": {},
   "outputs": [
    {
     "name": "stdout",
     "output_type": "stream",
     "text": [
      "Note: you may need to restart the kernel to use updated packages.\n"
     ]
    },
    {
     "name": "stderr",
     "output_type": "stream",
     "text": [
      "\n",
      "Usage:   \n",
      "  c:\\Users\\ifoa\\AppData\\Local\\Programs\\Python\\Python311\\python.exe -m pip install [options] <requirement specifier> [package-index-options] ...\n",
      "  c:\\Users\\ifoa\\AppData\\Local\\Programs\\Python\\Python311\\python.exe -m pip install [options] -r <requirements file> [package-index-options] ...\n",
      "  c:\\Users\\ifoa\\AppData\\Local\\Programs\\Python\\Python311\\python.exe -m pip install [options] [-e] <vcs project url> ...\n",
      "  c:\\Users\\ifoa\\AppData\\Local\\Programs\\Python\\Python311\\python.exe -m pip install [options] [-e] <local project path> ...\n",
      "  c:\\Users\\ifoa\\AppData\\Local\\Programs\\Python\\Python311\\python.exe -m pip install [options] <archive url/path> ...\n",
      "\n",
      "no such option: -p\n"
     ]
    }
   ],
   "source": [
    "pip install dotenv -python "
   ]
  },
  {
   "cell_type": "code",
   "execution_count": 5,
   "id": "1aacf848",
   "metadata": {},
   "outputs": [
    {
     "name": "stdout",
     "output_type": "stream",
     "text": [
      "Requirement already satisfied: python-dotenv in c:\\users\\ifoa\\appdata\\local\\programs\\python\\python311\\lib\\site-packages (1.1.0)\n",
      "Note: you may need to restart the kernel to use updated packages.\n"
     ]
    }
   ],
   "source": [
    "pip install python-dotenv"
   ]
  },
  {
   "cell_type": "code",
   "execution_count": 4,
   "id": "82a23ba6",
   "metadata": {},
   "outputs": [],
   "source": [
    "import os\n",
    "from dotenv import load_dotenv\n",
    "API_key = os.getenv('api_key')"
   ]
  },
  {
   "cell_type": "code",
   "execution_count": 6,
   "id": "fc98d1f9",
   "metadata": {},
   "outputs": [
    {
     "data": {
      "text/plain": [
       "<Response [200]>"
      ]
     },
     "execution_count": 6,
     "metadata": {},
     "output_type": "execute_result"
    }
   ],
   "source": [
    "import requests\n",
    "city_name = 'Bologna'\n",
    "load_dotenv('.env')\n",
    "url = f'https://api.openweathermap.org/data/2.5/weather?q={city_name}&appid={API_key}'\n",
    "result = requests.get(url)\n",
    "result"
   ]
  },
  {
   "cell_type": "code",
   "execution_count": 9,
   "id": "fe0e438c",
   "metadata": {},
   "outputs": [
    {
     "data": {
      "text/plain": [
       "{'coord': {'lon': 11.4333, 'lat': 44.4667},\n",
       " 'weather': [{'id': 804,\n",
       "   'main': 'Clouds',\n",
       "   'description': 'overcast clouds',\n",
       "   'icon': '04d'}],\n",
       " 'base': 'stations',\n",
       " 'main': {'temp': 292.64,\n",
       "  'feels_like': 292.37,\n",
       "  'temp_min': 292.61,\n",
       "  'temp_max': 293.85,\n",
       "  'pressure': 1014,\n",
       "  'humidity': 66,\n",
       "  'sea_level': 1014,\n",
       "  'grnd_level': 999},\n",
       " 'visibility': 10000,\n",
       " 'wind': {'speed': 1.79, 'deg': 20, 'gust': 3.58},\n",
       " 'clouds': {'all': 89},\n",
       " 'dt': 1747133413,\n",
       " 'sys': {'type': 2,\n",
       "  'id': 2004497,\n",
       "  'country': 'IT',\n",
       "  'sunrise': 1747108148,\n",
       "  'sunset': 1747161133},\n",
       " 'timezone': 7200,\n",
       " 'id': 3181927,\n",
       " 'name': 'Bologna',\n",
       " 'cod': 200}"
      ]
     },
     "execution_count": 9,
     "metadata": {},
     "output_type": "execute_result"
    }
   ],
   "source": [
    "json=result.json()\n",
    "json\n"
   ]
  },
  {
   "cell_type": "code",
   "execution_count": null,
   "id": "dc094dad",
   "metadata": {},
   "outputs": [],
   "source": []
  }
 ],
 "metadata": {
  "kernelspec": {
   "display_name": "Python 3",
   "language": "python",
   "name": "python3"
  },
  "language_info": {
   "codemirror_mode": {
    "name": "ipython",
    "version": 3
   },
   "file_extension": ".py",
   "mimetype": "text/x-python",
   "name": "python",
   "nbconvert_exporter": "python",
   "pygments_lexer": "ipython3",
   "version": "3.11.9"
  }
 },
 "nbformat": 4,
 "nbformat_minor": 5
}
