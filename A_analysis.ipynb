{
 "cells": [
  {
   "cell_type": "code",
   "execution_count": 2,
   "id": "078def62",
   "metadata": {},
   "outputs": [
    {
     "name": "stdout",
     "output_type": "stream",
     "text": [
      "Collecting streamlit_foliumNote: you may need to restart the kernel to use updated packages.\n",
      "\n",
      "  Downloading streamlit_folium-0.25.0-py3-none-any.whl.metadata (621 bytes)\n",
      "Requirement already satisfied: streamlit>=1.35.0 in c:\\users\\ifoa\\appdata\\local\\programs\\python\\python311\\lib\\site-packages (from streamlit_folium) (1.39.0)\n",
      "Requirement already satisfied: folium!=0.15.0,>=0.13 in c:\\users\\ifoa\\appdata\\local\\programs\\python\\python311\\lib\\site-packages (from streamlit_folium) (0.19.5)\n",
      "Requirement already satisfied: jinja2 in c:\\users\\ifoa\\appdata\\local\\programs\\python\\python311\\lib\\site-packages (from streamlit_folium) (3.1.4)\n",
      "Requirement already satisfied: branca in c:\\users\\ifoa\\appdata\\local\\programs\\python\\python311\\lib\\site-packages (from streamlit_folium) (0.8.1)\n",
      "Requirement already satisfied: numpy in c:\\users\\ifoa\\appdata\\local\\programs\\python\\python311\\lib\\site-packages (from folium!=0.15.0,>=0.13->streamlit_folium) (1.26.4)\n",
      "Requirement already satisfied: requests in c:\\users\\ifoa\\appdata\\local\\programs\\python\\python311\\lib\\site-packages (from folium!=0.15.0,>=0.13->streamlit_folium) (2.32.3)\n",
      "Requirement already satisfied: xyzservices in c:\\users\\ifoa\\appdata\\local\\programs\\python\\python311\\lib\\site-packages (from folium!=0.15.0,>=0.13->streamlit_folium) (2025.4.0)\n",
      "Requirement already satisfied: MarkupSafe>=2.0 in c:\\users\\ifoa\\appdata\\local\\programs\\python\\python311\\lib\\site-packages (from jinja2->streamlit_folium) (3.0.1)\n",
      "Requirement already satisfied: altair<6,>=4.0 in c:\\users\\ifoa\\appdata\\local\\programs\\python\\python311\\lib\\site-packages (from streamlit>=1.35.0->streamlit_folium) (5.4.1)\n",
      "Requirement already satisfied: blinker<2,>=1.0.0 in c:\\users\\ifoa\\appdata\\local\\programs\\python\\python311\\lib\\site-packages (from streamlit>=1.35.0->streamlit_folium) (1.8.2)\n",
      "Requirement already satisfied: cachetools<6,>=4.0 in c:\\users\\ifoa\\appdata\\local\\programs\\python\\python311\\lib\\site-packages (from streamlit>=1.35.0->streamlit_folium) (5.5.0)\n",
      "Requirement already satisfied: click<9,>=7.0 in c:\\users\\ifoa\\appdata\\local\\programs\\python\\python311\\lib\\site-packages (from streamlit>=1.35.0->streamlit_folium) (8.1.7)\n",
      "Requirement already satisfied: packaging<25,>=20 in c:\\users\\ifoa\\appdata\\local\\programs\\python\\python311\\lib\\site-packages (from streamlit>=1.35.0->streamlit_folium) (24.1)\n",
      "Requirement already satisfied: pandas<3,>=1.4.0 in c:\\users\\ifoa\\appdata\\local\\programs\\python\\python311\\lib\\site-packages (from streamlit>=1.35.0->streamlit_folium) (2.2.3)\n",
      "Requirement already satisfied: pillow<11,>=7.1.0 in c:\\users\\ifoa\\appdata\\local\\programs\\python\\python311\\lib\\site-packages (from streamlit>=1.35.0->streamlit_folium) (10.4.0)\n",
      "Requirement already satisfied: protobuf<6,>=3.20 in c:\\users\\ifoa\\appdata\\local\\programs\\python\\python311\\lib\\site-packages (from streamlit>=1.35.0->streamlit_folium) (5.28.2)\n",
      "Requirement already satisfied: pyarrow>=7.0 in c:\\users\\ifoa\\appdata\\local\\programs\\python\\python311\\lib\\site-packages (from streamlit>=1.35.0->streamlit_folium) (17.0.0)\n",
      "Requirement already satisfied: rich<14,>=10.14.0 in c:\\users\\ifoa\\appdata\\local\\programs\\python\\python311\\lib\\site-packages (from streamlit>=1.35.0->streamlit_folium) (13.9.2)\n",
      "Requirement already satisfied: tenacity<10,>=8.1.0 in c:\\users\\ifoa\\appdata\\local\\programs\\python\\python311\\lib\\site-packages (from streamlit>=1.35.0->streamlit_folium) (9.0.0)\n",
      "Requirement already satisfied: toml<2,>=0.10.1 in c:\\users\\ifoa\\appdata\\local\\programs\\python\\python311\\lib\\site-packages (from streamlit>=1.35.0->streamlit_folium) (0.10.2)\n",
      "Requirement already satisfied: typing-extensions<5,>=4.3.0 in c:\\users\\ifoa\\appdata\\local\\programs\\python\\python311\\lib\\site-packages (from streamlit>=1.35.0->streamlit_folium) (4.12.2)\n",
      "Requirement already satisfied: gitpython!=3.1.19,<4,>=3.0.7 in c:\\users\\ifoa\\appdata\\local\\programs\\python\\python311\\lib\\site-packages (from streamlit>=1.35.0->streamlit_folium) (3.1.43)\n",
      "Requirement already satisfied: pydeck<1,>=0.8.0b4 in c:\\users\\ifoa\\appdata\\local\\programs\\python\\python311\\lib\\site-packages (from streamlit>=1.35.0->streamlit_folium) (0.9.1)\n",
      "Requirement already satisfied: tornado<7,>=6.0.3 in c:\\users\\ifoa\\appdata\\local\\programs\\python\\python311\\lib\\site-packages (from streamlit>=1.35.0->streamlit_folium) (6.4.1)\n",
      "Requirement already satisfied: watchdog<6,>=2.1.5 in c:\\users\\ifoa\\appdata\\local\\programs\\python\\python311\\lib\\site-packages (from streamlit>=1.35.0->streamlit_folium) (5.0.3)\n",
      "Requirement already satisfied: jsonschema>=3.0 in c:\\users\\ifoa\\appdata\\local\\programs\\python\\python311\\lib\\site-packages (from altair<6,>=4.0->streamlit>=1.35.0->streamlit_folium) (4.23.0)\n",
      "Requirement already satisfied: narwhals>=1.5.2 in c:\\users\\ifoa\\appdata\\local\\programs\\python\\python311\\lib\\site-packages (from altair<6,>=4.0->streamlit>=1.35.0->streamlit_folium) (1.33.0)\n",
      "Requirement already satisfied: colorama in c:\\users\\ifoa\\appdata\\local\\programs\\python\\python311\\lib\\site-packages (from click<9,>=7.0->streamlit>=1.35.0->streamlit_folium) (0.4.6)\n",
      "Requirement already satisfied: gitdb<5,>=4.0.1 in c:\\users\\ifoa\\appdata\\local\\programs\\python\\python311\\lib\\site-packages (from gitpython!=3.1.19,<4,>=3.0.7->streamlit>=1.35.0->streamlit_folium) (4.0.11)\n",
      "Requirement already satisfied: smmap<6,>=3.0.1 in c:\\users\\ifoa\\appdata\\local\\programs\\python\\python311\\lib\\site-packages (from gitdb<5,>=4.0.1->gitpython!=3.1.19,<4,>=3.0.7->streamlit>=1.35.0->streamlit_folium) (5.0.1)\n",
      "Requirement already satisfied: python-dateutil>=2.8.2 in c:\\users\\ifoa\\appdata\\local\\programs\\python\\python311\\lib\\site-packages (from pandas<3,>=1.4.0->streamlit>=1.35.0->streamlit_folium) (2.9.0.post0)\n",
      "Requirement already satisfied: pytz>=2020.1 in c:\\users\\ifoa\\appdata\\local\\programs\\python\\python311\\lib\\site-packages (from pandas<3,>=1.4.0->streamlit>=1.35.0->streamlit_folium) (2024.2)\n",
      "Requirement already satisfied: tzdata>=2022.7 in c:\\users\\ifoa\\appdata\\local\\programs\\python\\python311\\lib\\site-packages (from pandas<3,>=1.4.0->streamlit>=1.35.0->streamlit_folium) (2024.2)\n",
      "Requirement already satisfied: charset-normalizer<4,>=2 in c:\\users\\ifoa\\appdata\\local\\programs\\python\\python311\\lib\\site-packages (from requests->folium!=0.15.0,>=0.13->streamlit_folium) (3.4.0)\n",
      "Requirement already satisfied: idna<4,>=2.5 in c:\\users\\ifoa\\appdata\\local\\programs\\python\\python311\\lib\\site-packages (from requests->folium!=0.15.0,>=0.13->streamlit_folium) (3.10)\n",
      "Requirement already satisfied: urllib3<3,>=1.21.1 in c:\\users\\ifoa\\appdata\\local\\programs\\python\\python311\\lib\\site-packages (from requests->folium!=0.15.0,>=0.13->streamlit_folium) (2.2.3)\n",
      "Requirement already satisfied: certifi>=2017.4.17 in c:\\users\\ifoa\\appdata\\local\\programs\\python\\python311\\lib\\site-packages (from requests->folium!=0.15.0,>=0.13->streamlit_folium) (2024.8.30)\n",
      "Requirement already satisfied: markdown-it-py>=2.2.0 in c:\\users\\ifoa\\appdata\\local\\programs\\python\\python311\\lib\\site-packages (from rich<14,>=10.14.0->streamlit>=1.35.0->streamlit_folium) (3.0.0)\n",
      "Requirement already satisfied: pygments<3.0.0,>=2.13.0 in c:\\users\\ifoa\\appdata\\local\\programs\\python\\python311\\lib\\site-packages (from rich<14,>=10.14.0->streamlit>=1.35.0->streamlit_folium) (2.18.0)\n",
      "Requirement already satisfied: attrs>=22.2.0 in c:\\users\\ifoa\\appdata\\local\\programs\\python\\python311\\lib\\site-packages (from jsonschema>=3.0->altair<6,>=4.0->streamlit>=1.35.0->streamlit_folium) (24.2.0)\n",
      "Requirement already satisfied: jsonschema-specifications>=2023.03.6 in c:\\users\\ifoa\\appdata\\local\\programs\\python\\python311\\lib\\site-packages (from jsonschema>=3.0->altair<6,>=4.0->streamlit>=1.35.0->streamlit_folium) (2024.10.1)\n",
      "Requirement already satisfied: referencing>=0.28.4 in c:\\users\\ifoa\\appdata\\local\\programs\\python\\python311\\lib\\site-packages (from jsonschema>=3.0->altair<6,>=4.0->streamlit>=1.35.0->streamlit_folium) (0.35.1)\n",
      "Requirement already satisfied: rpds-py>=0.7.1 in c:\\users\\ifoa\\appdata\\local\\programs\\python\\python311\\lib\\site-packages (from jsonschema>=3.0->altair<6,>=4.0->streamlit>=1.35.0->streamlit_folium) (0.20.0)\n",
      "Requirement already satisfied: mdurl~=0.1 in c:\\users\\ifoa\\appdata\\local\\programs\\python\\python311\\lib\\site-packages (from markdown-it-py>=2.2.0->rich<14,>=10.14.0->streamlit>=1.35.0->streamlit_folium) (0.1.2)\n",
      "Requirement already satisfied: six>=1.5 in c:\\users\\ifoa\\appdata\\local\\programs\\python\\python311\\lib\\site-packages (from python-dateutil>=2.8.2->pandas<3,>=1.4.0->streamlit>=1.35.0->streamlit_folium) (1.16.0)\n",
      "Downloading streamlit_folium-0.25.0-py3-none-any.whl (328 kB)\n",
      "Installing collected packages: streamlit_folium\n",
      "Successfully installed streamlit_folium-0.25.0\n"
     ]
    }
   ],
   "source": [
    " pip install streamlit_folium"
   ]
  },
  {
   "cell_type": "code",
   "execution_count": null,
   "id": "c7073c25",
   "metadata": {},
   "outputs": [],
   "source": []
  },
  {
   "cell_type": "code",
   "execution_count": null,
   "id": "8647cca7",
   "metadata": {},
   "outputs": [],
   "source": []
  },
  {
   "cell_type": "code",
   "execution_count": null,
   "id": "4a4657e1",
   "metadata": {},
   "outputs": [],
   "source": []
  }
 ],
 "metadata": {
  "kernelspec": {
   "display_name": "Python 3",
   "language": "python",
   "name": "python3"
  },
  "language_info": {
   "codemirror_mode": {
    "name": "ipython",
    "version": 3
   },
   "file_extension": ".py",
   "mimetype": "text/x-python",
   "name": "python",
   "nbconvert_exporter": "python",
   "pygments_lexer": "ipython3",
   "version": "3.11.9"
  }
 },
 "nbformat": 4,
 "nbformat_minor": 5
}
